{
 "cells": [
  {
   "cell_type": "markdown",
   "metadata": {},
   "source": [
    "Restricciones de la Regresión Lineal\n",
    "\n",
    "* Linealidad\n",
    "* Homocedasticidad\n",
    "* Normalidad multivariable\n",
    "* Independencia de los errores\n",
    "* Ausencia de multicolinealidad"
   ]
  },
  {
   "cell_type": "markdown",
   "metadata": {},
   "source": [
    "### Métodos para construir modelos de regresión\n",
    "1. Exahustivo ('All-in' - cases)\n",
    "    * Conocimiento a priori\n",
    "    * Necesidad u obliglación\n",
    "\n",
    "2. Eliminación hacía atrás\n",
    "    * Elegir el nivel de significación\n",
    "    * Elegir la variable predictora\n",
    "    *  \n",
    "3. Selección hacía adelante\n",
    "4. Eliminación Bidireccional\n",
    "5. Comparación de scores\n"
   ]
  },
  {
   "cell_type": "code",
   "execution_count": 1,
   "metadata": {},
   "outputs": [],
   "source": [
    "# Importamos las librerías\n",
    "import numpy as np\n",
    "import matplotlib.pyplot as plt\n",
    "import pandas as pd"
   ]
  },
  {
   "cell_type": "code",
   "execution_count": null,
   "metadata": {},
   "outputs": [],
   "source": [
    "# Importar y leer el dataset\n",
    "dataset = pd.read_csv('50_Startups.csv')\n",
    "X = dataset.iloc[:, :-1].values\n",
    "y = dataset.iloc[:, -1].values"
   ]
  }
 ],
 "metadata": {
  "kernelspec": {
   "display_name": "Python 3",
   "language": "python",
   "name": "python3"
  },
  "language_info": {
   "codemirror_mode": {
    "name": "ipython",
    "version": 3
   },
   "file_extension": ".py",
   "mimetype": "text/x-python",
   "name": "python",
   "nbconvert_exporter": "python",
   "pygments_lexer": "ipython3",
   "version": "3.12.1"
  }
 },
 "nbformat": 4,
 "nbformat_minor": 2
}
